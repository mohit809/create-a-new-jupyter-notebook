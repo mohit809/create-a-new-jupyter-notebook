{
  "cells": [
    {
      "cell_type": "markdown",
      "metadata": {
        "id": "vkSYCy0LSQ-v"
      },
      "source": [
        "# Email Spam Classification"
      ]
    },
    {
      "cell_type": "code",
      "execution_count": null,
      "metadata": {
        "id": "ddJBk3kdSQ-v"
      },
      "outputs": [],
      "source": [
        "# Some of the popular languages that Data Scientists use are:\n",
        "\n",
        "Python\n",
        "R\n",
        "SQL\n",
        "Scala\n",
        "Java\n",
        "C++\n",
        "Julia\n",
        "JavaScript\n",
        "PHP\n",
        "Go\n",
        "Ruby\n",
        "Visual Basic"
      ]
    },
    {
      "cell_type": "markdown",
      "metadata": {
        "id": "M4j0w6gZSQ-w"
      },
      "source": [
        "## Data Science Tools\n"
      ]
    },
    {
      "cell_type": "code",
      "execution_count": null,
      "metadata": {
        "id": "3VXaKL1VSQ-w"
      },
      "outputs": [],
      "source": [
        "Data Science Tools\n",
        "Jupyter Notebook\n",
        "RStudio\n",
        "Apache Zeppelin"
      ]
    },
    {
      "cell_type": "markdown",
      "metadata": {
        "id": "vb2wFGhPSQ-w"
      },
      "source": [
        "## Below are a few examples of evaluating arithmetic expressions in Python"
      ]
    },
    {
      "cell_type": "code",
      "execution_count": null,
      "metadata": {
        "id": "qVTXw4w_SQ-w"
      },
      "outputs": [],
      "source": [
        "# Some of the commonly used libraries used by Data Scientists include:\n",
        "\n",
        "Pandas\n",
        "Numpy\n",
        "Matplotlib\n",
        "Seaborn\n",
        "Scikit-learn\n",
        "Keras\n",
        "TensorFlow\n",
        "PyTorch\n",
        "Apache Spark\n",
        "Vegas\n",
        "Big DL\n",
        "Ggplot2"
      ]
    },
    {
      "cell_type": "markdown",
      "metadata": {
        "id": "XAFo-ddUSQ-w"
      },
      "source": [
        "# This a simple arithmetic expression to mutiply then add integers"
      ]
    },
    {
      "cell_type": "code",
      "execution_count": null,
      "metadata": {
        "id": "fWspbxB4SQ-x",
        "outputId": "03aa89e3-a48a-420a-be9d-6f81348bb87b"
      },
      "outputs": [
        {
          "data": {
            "text/plain": [
              "328699"
            ]
          },
          "execution_count": 23,
          "metadata": {},
          "output_type": "execute_result"
        }
      ],
      "source": [
        "(376*874)+75 #simple arithmetic expression to mutiply then add integers"
      ]
    },
    {
      "cell_type": "code",
      "source": [
        "# To convert 200 min to hours divided by 60\n",
        "200//60"
      ],
      "metadata": {
        "colab": {
          "base_uri": "https://localhost:8080/"
        },
        "id": "7pyXbAZSdetV",
        "outputId": "27666e4a-c7fb-419f-bb84-f9c20ec5114d"
      },
      "execution_count": 2,
      "outputs": [
        {
          "output_type": "execute_result",
          "data": {
            "text/plain": [
              "3"
            ]
          },
          "metadata": {},
          "execution_count": 2
        }
      ]
    },
    {
      "cell_type": "code",
      "source": [
        "# this is a simple arithmetic to multiple then add integers\n",
        "\n",
        "(4*3)+5"
      ],
      "metadata": {
        "colab": {
          "base_uri": "https://localhost:8080/"
        },
        "id": "Uk8nid5adtko",
        "outputId": "a5e60fa4-0e39-47a1-dc15-99b8537e67a4"
      },
      "execution_count": 4,
      "outputs": [
        {
          "output_type": "execute_result",
          "data": {
            "text/plain": [
              "17"
            ]
          },
          "metadata": {},
          "execution_count": 4
        }
      ]
    },
    {
      "cell_type": "markdown",
      "metadata": {
        "id": "28q7pGhsSQ-x"
      },
      "source": [
        "\n",
        "\n",
        "```\n",
        "# This is formatted as code\n",
        "```\n",
        "\n",
        "# Objectives\n",
        "\n",
        "\n",
        "*   Add comments to code\n",
        "\n",
        "*   Create markdown cells\n",
        "\n",
        "*   Add ordered and unordered lists to markdown cells\n",
        "*   Format content of markdown cells with heading styles\n",
        "\n",
        "\n"
      ]
    },
    {
      "cell_type": "markdown",
      "metadata": {
        "id": "QdYssGZCSQ-x"
      },
      "source": [
        "## Author(s)\n",
        "\n",
        "\n",
        "*   Mohit Sharma\n",
        "*   Lalit\n",
        "\n"
      ]
    },
    {
      "cell_type": "markdown",
      "source": [
        "** showing the code cell created to convert minutes to hours **"
      ],
      "metadata": {
        "id": "dk43B0QxSdO9"
      }
    },
    {
      "cell_type": "code",
      "execution_count": null,
      "metadata": {
        "colab": {
          "base_uri": "https://localhost:8080/"
        },
        "id": "dokLbco1SQ-y",
        "outputId": "0cd3aa05-c3ba-43cb-a673-73622d3dbb94"
      },
      "outputs": [
        {
          "output_type": "execute_result",
          "data": {
            "text/plain": [
              "33"
            ]
          },
          "metadata": {},
          "execution_count": 1
        }
      ],
      "source": [
        " # showing the code cell created to convert minutes to hours\n",
        "\n",
        "2000//60\n"
      ]
    }
  ],
  "metadata": {
    "kernelspec": {
      "display_name": "Python 3 (ipykernel)",
      "language": "python",
      "name": "python3"
    },
    "language_info": {
      "codemirror_mode": {
        "name": "ipython",
        "version": 3
      },
      "file_extension": ".py",
      "mimetype": "text/x-python",
      "name": "python",
      "nbconvert_exporter": "python",
      "pygments_lexer": "ipython3",
      "version": "3.12.8"
    },
    "prev_pub_hash": "9e1985db9844176462bd1d5863048c9f3d17404bbc6a648be9084b0c42b29347",
    "colab": {
      "provenance": []
    }
  },
  "nbformat": 4,
  "nbformat_minor": 0
}